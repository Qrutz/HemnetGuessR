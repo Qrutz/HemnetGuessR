{
 "cells": [
  {
   "cell_type": "code",
   "execution_count": 21,
   "metadata": {},
   "outputs": [],
   "source": [
    "import pandas as pd\n",
    "import requests\n",
    "from bs4 import BeautifulSoup"
   ]
  },
  {
   "cell_type": "code",
   "execution_count": 22,
   "metadata": {},
   "outputs": [],
   "source": [
    "base_url = \"https://www.hemnet.se/bostader?location_ids%5B%5D=17884&page=\""
   ]
  },
  {
   "cell_type": "code",
   "execution_count": null,
   "metadata": {},
   "outputs": [],
   "source": [
    "pages = list(map(str, range(1, 8)))\n",
    "\n",
    "url = base_url + pages[0]\n",
    "records = []\n",
    "\n",
    "headers = {\n",
    "    \"User-Agent\": \"Mozilla/5.0 (Windows NT 10.0; Win64; x64) AppleWebKit/537.36 (KHTML, like Gecko) Chrome/91.0.4472.124 Safari/537.36\",\n",
    "}\n",
    "\n",
    "for n in pages:\n",
    "    create_url = base_url + n\n",
    "    r = requests.get(create_url, headers=headers)\n",
    "    r.raise_for_status()\n",
    "\n",
    "    soup = BeautifulSoup(r.text, 'html.parser')\n",
    "  \n",
    "    containers = soup.find_all('li', attrs={'class': 'normal-results__hit js-normal-list-item'})\n",
    "    \n",
    "    for container in containers:\n",
    "        ## Get href from every li element\n",
    "        href = container.find('a', href=True)['href']\n",
    "        print(href)\n",
    "\n",
    "    for container in containers:\n",
    "        primary_infos = container.find('div', class_=['listing-card__attribute', 'listing-card__attribute--primary'])\n",
    "\n",
    "        if primary_infos is not None:\n",
    "            print(\"Found a listing!\")\n",
    "            address = container.find('h2', class_='listing-card__street-address').text.strip()\n",
    "            city = container.find('span', class_='listing-card__location-name').text.strip()\n",
    "            pris = primary_infos.text.strip().replace('kr', '').replace(' ', '')\n",
    "            boarea = primary_infos.find_next_sibling('div', class_=['listing-card__attribute', 'listing-card__attribute--primary']).text.strip()\n",
    "            rum = primary_infos.find_next_sibling('div', class_=['listing-card__attribute', 'listing-card__attribute--primary']).find_next_sibling('div', class_=['listing-card__attribute', 'listing-card__attribute--primary']).text.strip()\n",
    "            ## The image is in the class js-lazy-load listing-card__image listing-card__image--big, and i want the src url and no blank.gif\n",
    "            image_url = container.find('img', class_=['js-lazy-load', 'listing-card__image', 'listing-card__image--big'])['data-src']\n",
    "\n",
    "            records.append((address, city, pris, boarea, rum, image_url))"
   ]
  },
  {
   "cell_type": "code",
   "execution_count": null,
   "metadata": {},
   "outputs": [],
   "source": [
    "hemnet_df = pd.DataFrame(records, columns=['address', 'city', 'pris', 'boarea', 'rum', 'image_url'])\n",
    "hemnet_df.head()"
   ]
  },
  {
   "cell_type": "code",
   "execution_count": null,
   "metadata": {},
   "outputs": [],
   "source": [
    "## Save to json\n",
    "hemnet_df.to_json('hemnet.json', orient='records')"
   ]
  }
 ],
 "metadata": {
  "kernelspec": {
   "display_name": "Python 3",
   "language": "python",
   "name": "python3"
  },
  "language_info": {
   "codemirror_mode": {
    "name": "ipython",
    "version": 3
   },
   "file_extension": ".py",
   "mimetype": "text/x-python",
   "name": "python",
   "nbconvert_exporter": "python",
   "pygments_lexer": "ipython3",
   "version": "3.11.3"
  },
  "orig_nbformat": 4
 },
 "nbformat": 4,
 "nbformat_minor": 2
}
